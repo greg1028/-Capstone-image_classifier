{
 "cells": [
  {
   "cell_type": "code",
   "execution_count": null,
   "id": "77f09579",
   "metadata": {},
   "outputs": [],
   "source": [
    "from keras.models import load_model\n",
    "import tensorflow as tf\n",
    "from PIL import Image\n",
    "import numpy as np\n",
    "import os\n",
    "\n",
    "os.environ['TF_CPP_MIN_LOG_LEVEL'] = '3'\n",
    "os.environ[\"CUDA_VISIBLE_DEVICES\"] = \"0\"\n",
    "\n",
    "categories = [\"버스\",\"화물차\",\"해치백\",\"승용차\",\"SUV\",\"트럭\",\"승합차\"]\n",
    "\n",
    "#load models\n",
    "Xception = tf.keras.models.load_model('./VTIP_model_Xception.h5') \n",
    "Resnet = tf.keras.models.load_model('./VTIP_model_Resnet50.h5') \n",
    "Densnet = tf.keras.models.load_model('./VTIP_model_Densenet121.h5') \n",
    "Mobilenet = tf.keras.models.load_model('./VTIP_model_mobilenet.h5') \n"
   ]
  },
  {
   "cell_type": "code",
   "execution_count": null,
   "id": "111354dc",
   "metadata": {},
   "outputs": [],
   "source": [
    "data_dir = \"./DataSet\"\n",
    "\n",
    "batch_size = 32\n",
    "img_height = 128\n",
    "img_width = 128\n",
    "\n",
    "train_ds = tf.keras.preprocessing.image_dataset_from_directory(\n",
    "    data_dir,\n",
    "    validation_split=0.2,\n",
    "    subset=\"training\",\n",
    "    seed=123,\n",
    "    image_size=(img_height, img_width),\n",
    "    batch_size=batch_size)\n",
    "val_ds = tf.keras.preprocessing.image_dataset_from_directory(\n",
    "    data_dir,\n",
    "    validation_split=0.2,\n",
    "    subset=\"validation\",\n",
    "    seed=123,\n",
    "    image_size=(img_height, img_width),\n",
    "    batch_size=batch_size)\n",
    "\n",
    "val_batches = tf.data.experimental.cardinality(val_ds)\n",
    "test_ds = val_ds.take((2*val_batches) // 3)\n",
    "val_ds = val_ds.skip((2*val_batches) // 3)"
   ]
  },
  {
   "cell_type": "code",
   "execution_count": null,
   "id": "dd6be549",
   "metadata": {},
   "outputs": [],
   "source": [
    "models = [Xception, Resnet, Densnet, Mobilenet]\n",
    "models_name = ['Xception', 'Resnet', 'Densnet', 'Mobilenet']\n",
    "#CNN은 편차가 커 삭제\n",
    "\n",
    "for i, model in enumerate (models):\n",
    "    model._name = models_name[i]\n",
    "    print(model._name)\n"
   ]
  },
  {
   "cell_type": "code",
   "execution_count": null,
   "id": "5b6c6a4b",
   "metadata": {},
   "outputs": [],
   "source": [
    "model_input = tf.keras.Input(shape=(128, 128, 3))\n",
    "\n",
    "model_outputs = [model(model_input) for model in models]\n",
    "\n",
    "\n",
    "out = tf.keras.layers.Add()(model_outputs)\n",
    "\n",
    "ensemble_model = tf.keras.Model(inputs=model_input, outputs=out)\n",
    "\n",
    "ensemble_model._name = 'VITP'\n",
    "\n",
    "ensemble_model.compile(loss=tf.keras.losses.SparseCategoricalCrossentropy(from_logits=True),\n",
    "              optimizer = tf.keras.optimizers.Adam(learning_rate=0.001),\n",
    "              metrics=['accuracy'])\n",
    "\n",
    "ensemble_model.summary()\n"
   ]
  },
  {
   "cell_type": "code",
   "execution_count": null,
   "id": "27f53896",
   "metadata": {},
   "outputs": [],
   "source": [
    "loss, accuracy = ensemble_model.evaluate(test_ds)\n",
    "print('Test accuracy :', accuracy)\n",
    "print('Test loss :', loss)\n"
   ]
  },
  {
   "cell_type": "code",
   "execution_count": null,
   "id": "d4118446",
   "metadata": {},
   "outputs": [],
   "source": [
    "# (멀티) 분류 문제인 경우 softmax 적용 후 argmax로 계산\n",
    "# make predictions\n",
    "img_path = \"./\"+\"bus.jpg\"\n",
    "img = Image.open(img_path)\n",
    "img = img.convert(\"RGB\")\n",
    "img = img.resize((128, 128))\n",
    "data = np.asarray(img)\n",
    "data = np.expand_dims(data, axis=0)\n",
    "\n",
    "X_preds = Xception.predict(data)\n",
    "R_preds = Resnet.predict(data)\n",
    "D_preds = Densnet.predict(data)\n",
    "C_preds = CNN.predict(data)\n",
    "M_preds = Mobilenet.predict(data)\n",
    "E_preds = ensemble_model.predict(data)\n",
    "\n",
    "print(' ')\n",
    "\n",
    "def pred(x, name):\n",
    "    print(name)\n",
    "    print(x[0])\n",
    "    print(' ')\n",
    "    index = x.argmax()\n",
    "        #print(index)\n",
    "    return categories[index]\n",
    "\n",
    "\n",
    "\n",
    "X = pred(X_preds, 'Xception')\n",
    "R = pred(R_preds, 'Resnet50')\n",
    "D = pred(D_preds, 'Densenet121')\n",
    "M = pred(M_preds, 'MobileNetV2')\n",
    "E = pred(E_preds, 'ADD_Ensemble')\n",
    "\n"
   ]
  },
  {
   "cell_type": "code",
   "execution_count": null,
   "id": "ceabf03f",
   "metadata": {},
   "outputs": [],
   "source": [
    "from keras.models import load_model\n",
    "ensemble_model.save('VTIP_Ensemble.h5')\n",
    "ensemble_model.save_weights('VTIP_Ensemble_weights.h5')\n"
   ]
  },
  {
   "cell_type": "code",
   "execution_count": null,
   "id": "667bd58d",
   "metadata": {},
   "outputs": [],
   "source": []
  }
 ],
 "metadata": {
  "kernelspec": {
   "display_name": "Python 3 (ipykernel)",
   "language": "python",
   "name": "python3"
  },
  "language_info": {
   "codemirror_mode": {
    "name": "ipython",
    "version": 3
   },
   "file_extension": ".py",
   "mimetype": "text/x-python",
   "name": "python",
   "nbconvert_exporter": "python",
   "pygments_lexer": "ipython3",
   "version": "3.9.13"
  }
 },
 "nbformat": 4,
 "nbformat_minor": 5
}
